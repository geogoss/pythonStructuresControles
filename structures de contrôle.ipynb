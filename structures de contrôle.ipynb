{
 "cells": [
  {
   "cell_type": "code",
   "execution_count": 3,
   "id": "a432bdbf",
   "metadata": {},
   "outputs": [
    {
     "name": "stdout",
     "output_type": "stream",
     "text": [
      "0 null\n"
     ]
    }
   ],
   "source": [
    "x = 0\n",
    "if x > 1:\n",
    "    print(x, 'positif')\n",
    "elif x == 0:\n",
    "    print(x, 'null')\n",
    "else:\n",
    "    print(x, 'negatif')\n",
    "    \n"
   ]
  },
  {
   "cell_type": "code",
   "execution_count": 16,
   "id": "0744b3dc",
   "metadata": {},
   "outputs": [],
   "source": [
    "def signe(s):\n",
    "    if (s > 1):\n",
    "        print(s, 'positif')\n",
    "    elif s == 0:\n",
    "        print(s, 'null')\n",
    "    else:\n",
    "        print(s, 'negatif')"
   ]
  },
  {
   "cell_type": "code",
   "execution_count": 20,
   "id": "9896e254",
   "metadata": {},
   "outputs": [
    {
     "name": "stdout",
     "output_type": "stream",
     "text": [
      "0 null\n"
     ]
    }
   ],
   "source": [
    "signe(0)"
   ]
  },
  {
   "cell_type": "code",
   "execution_count": 26,
   "id": "5a0d965f",
   "metadata": {},
   "outputs": [
    {
     "name": "stdout",
     "output_type": "stream",
     "text": [
      "-10 negatif\n",
      "-7 negatif\n",
      "-4 negatif\n",
      "-1 negatif\n",
      "2 positif\n",
      "5 positif\n",
      "8 positif\n",
      "11 positif\n",
      "14 positif\n"
     ]
    }
   ],
   "source": [
    "for i in range(-10, 15, 3):\n",
    "    signe(i)\n",
    "    "
   ]
  },
  {
   "cell_type": "code",
   "execution_count": 27,
   "id": "4a407864",
   "metadata": {},
   "outputs": [
    {
     "name": "stdout",
     "output_type": "stream",
     "text": [
      "0\n",
      "1\n",
      "2\n",
      "3\n",
      "4\n",
      "5\n",
      "6\n",
      "7\n",
      "8\n",
      "9\n"
     ]
    }
   ],
   "source": [
    "x = 0\n",
    "while x < 10:\n",
    "    print(x)\n",
    "    x += 1"
   ]
  },
  {
   "cell_type": "code",
   "execution_count": null,
   "id": "9d339342",
   "metadata": {},
   "outputs": [],
   "source": []
  }
 ],
 "metadata": {
  "kernelspec": {
   "display_name": "Python 3 (ipykernel)",
   "language": "python",
   "name": "python3"
  },
  "language_info": {
   "codemirror_mode": {
    "name": "ipython",
    "version": 3
   },
   "file_extension": ".py",
   "mimetype": "text/x-python",
   "name": "python",
   "nbconvert_exporter": "python",
   "pygments_lexer": "ipython3",
   "version": "3.9.7"
  }
 },
 "nbformat": 4,
 "nbformat_minor": 5
}
